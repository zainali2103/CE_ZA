{
 "cells": [
  {
   "cell_type": "markdown",
   "id": "b5c90233-04df-40ee-89dc-9b9ae3ac2ab4",
   "metadata": {},
   "source": [
    "# Step 1: \n",
    "### Load the Data We load the two datasets: \n",
    "#### Internal_trade_data.xlsx: Contains monthly outright trades and a quarterly contract with columns trade_id, contract_type, contract_period, quantity_mwh, price_eur_per_mwh.\n",
    "#### clearer_trade_data.xlsx: Contains the clearer's monthly settled positions with columns delivery_month, quantity_mwh, price_eur_per_mwh.\n",
    "#### I rename delivery_month to contract_period in the clearer data for consistency when merging."
   ]
  },
  {
   "cell_type": "code",
   "execution_count": 3,
   "id": "000daf06-c7ae-4b9c-aa29-ca494c09b2f3",
   "metadata": {},
   "outputs": [],
   "source": [
    "import pandas as pd\n",
    "import numpy as np\n",
    "import matplotlib.pyplot as plt\n",
    "\n",
    "# Load internal trade data\n",
    "internal_df = pd.read_excel('internal_trade_data.xlsx')\n",
    "\n",
    "# Load clearer trade data\n",
    "clearer_df = pd.read_excel('clearer_trade_data.xlsx')\n",
    "\n",
    "# Rename delivery_month to contract_period for consistency\n",
    "clearer_df = clearer_df.rename(columns={'delivery_month': 'contract_period'})"
   ]
  },
  {
   "cell_type": "code",
   "execution_count": 5,
   "id": "53e310fa-3200-4c98-9af8-6b1b3939467f",
   "metadata": {},
   "outputs": [
    {
     "data": {
      "text/html": [
       "<div>\n",
       "<style scoped>\n",
       "    .dataframe tbody tr th:only-of-type {\n",
       "        vertical-align: middle;\n",
       "    }\n",
       "\n",
       "    .dataframe tbody tr th {\n",
       "        vertical-align: top;\n",
       "    }\n",
       "\n",
       "    .dataframe thead th {\n",
       "        text-align: right;\n",
       "    }\n",
       "</style>\n",
       "<table border=\"1\" class=\"dataframe\">\n",
       "  <thead>\n",
       "    <tr style=\"text-align: right;\">\n",
       "      <th></th>\n",
       "      <th>trade_id</th>\n",
       "      <th>contract_type</th>\n",
       "      <th>contract_period</th>\n",
       "      <th>quantity_mwh</th>\n",
       "      <th>price_eur_per_mwh</th>\n",
       "    </tr>\n",
       "  </thead>\n",
       "  <tbody>\n",
       "    <tr>\n",
       "      <th>0</th>\n",
       "      <td>1</td>\n",
       "      <td>Outright</td>\n",
       "      <td>2025-03</td>\n",
       "      <td>100</td>\n",
       "      <td>30</td>\n",
       "    </tr>\n",
       "    <tr>\n",
       "      <th>1</th>\n",
       "      <td>2</td>\n",
       "      <td>Outright</td>\n",
       "      <td>2025-04</td>\n",
       "      <td>200</td>\n",
       "      <td>31</td>\n",
       "    </tr>\n",
       "    <tr>\n",
       "      <th>2</th>\n",
       "      <td>3</td>\n",
       "      <td>Outright</td>\n",
       "      <td>2025-05</td>\n",
       "      <td>250</td>\n",
       "      <td>32</td>\n",
       "    </tr>\n",
       "    <tr>\n",
       "      <th>3</th>\n",
       "      <td>4</td>\n",
       "      <td>Outright Quarter</td>\n",
       "      <td>Q225</td>\n",
       "      <td>300</td>\n",
       "      <td>33</td>\n",
       "    </tr>\n",
       "  </tbody>\n",
       "</table>\n",
       "</div>"
      ],
      "text/plain": [
       "   trade_id     contract_type contract_period  quantity_mwh  price_eur_per_mwh\n",
       "0         1          Outright         2025-03           100                 30\n",
       "1         2          Outright         2025-04           200                 31\n",
       "2         3          Outright         2025-05           250                 32\n",
       "3         4  Outright Quarter            Q225           300                 33"
      ]
     },
     "execution_count": 5,
     "metadata": {},
     "output_type": "execute_result"
    }
   ],
   "source": [
    "internal_df.head()"
   ]
  },
  {
   "cell_type": "code",
   "execution_count": 7,
   "id": "84aa78f1-7dad-43c6-b1d4-52aa2db43b6a",
   "metadata": {},
   "outputs": [
    {
     "data": {
      "text/html": [
       "<div>\n",
       "<style scoped>\n",
       "    .dataframe tbody tr th:only-of-type {\n",
       "        vertical-align: middle;\n",
       "    }\n",
       "\n",
       "    .dataframe tbody tr th {\n",
       "        vertical-align: top;\n",
       "    }\n",
       "\n",
       "    .dataframe thead th {\n",
       "        text-align: right;\n",
       "    }\n",
       "</style>\n",
       "<table border=\"1\" class=\"dataframe\">\n",
       "  <thead>\n",
       "    <tr style=\"text-align: right;\">\n",
       "      <th></th>\n",
       "      <th>contract_period</th>\n",
       "      <th>quantity_mwh</th>\n",
       "      <th>price_eur_per_mwh</th>\n",
       "    </tr>\n",
       "  </thead>\n",
       "  <tbody>\n",
       "    <tr>\n",
       "      <th>0</th>\n",
       "      <td>2025-03</td>\n",
       "      <td>100</td>\n",
       "      <td>30.0</td>\n",
       "    </tr>\n",
       "    <tr>\n",
       "      <th>1</th>\n",
       "      <td>2025-04</td>\n",
       "      <td>500</td>\n",
       "      <td>32.0</td>\n",
       "    </tr>\n",
       "    <tr>\n",
       "      <th>2</th>\n",
       "      <td>2025-05</td>\n",
       "      <td>550</td>\n",
       "      <td>32.5</td>\n",
       "    </tr>\n",
       "    <tr>\n",
       "      <th>3</th>\n",
       "      <td>2025-06</td>\n",
       "      <td>300</td>\n",
       "      <td>33.0</td>\n",
       "    </tr>\n",
       "  </tbody>\n",
       "</table>\n",
       "</div>"
      ],
      "text/plain": [
       "  contract_period  quantity_mwh  price_eur_per_mwh\n",
       "0         2025-03           100               30.0\n",
       "1         2025-04           500               32.0\n",
       "2         2025-05           550               32.5\n",
       "3         2025-06           300               33.0"
      ]
     },
     "execution_count": 7,
     "metadata": {},
     "output_type": "execute_result"
    }
   ],
   "source": [
    "clearer_df.tail()"
   ]
  },
  {
   "cell_type": "markdown",
   "id": "671a799a-7655-4d59-a11c-8edf6e894543",
   "metadata": {},
   "source": [
    "# Step 2: Decompose the Quarterly Contract\n",
    "#### The quarterly contract (Q225) covers April, May, and June 2025. We split it into three equal monthly parts:\n",
    "#### Total quantity is divided by 3 (e.g., 300 MWh ÷ 3 = 100 MWh per month).\n",
    "#### The price remains unchanged (€33).\n",
    "#### We create a new DataFrame (quarterly_splits) with columns contract_period, quantity_mwh, and price_eur_per_mwh for these monthly parts."
   ]
  },
  {
   "cell_type": "code",
   "execution_count": 9,
   "id": "27db521b-d607-44dc-865b-191e885de8c8",
   "metadata": {},
   "outputs": [],
   "source": [
    "# Identify quarterly trades\n",
    "quarterly_df = internal_df[internal_df['contract_type'] == 'Outright Quarter']\n",
    "\n",
    "# Split quarterly trade into monthly parts (Apr, May, Jun for Q225)\n",
    "if not quarterly_df.empty:\n",
    "    quarterly_trade = quarterly_df.iloc[0]\n",
    "    total_quantity = quarterly_trade['quantity_mwh']\n",
    "    total_price = quarterly_trade['price_eur_per_mwh']\n",
    "    monthly_periods = ['2025-04', '2025-05', '2025-06']\n",
    "    quantity_per_month = total_quantity / len(monthly_periods)\n",
    "    \n",
    "    quarterly_splits = pd.DataFrame({\n",
    "        'contract_period': monthly_periods,\n",
    "        'quantity_mwh': [quantity_per_month] * len(monthly_periods),\n",
    "        'price_eur_per_mwh': [total_price] * len(monthly_periods)\n",
    "    })\n",
    "else:\n",
    "    quarterly_splits = pd.DataFrame(columns=['contract_period', 'quantity_mwh', 'price_eur_per_mwh'])"
   ]
  },
  {
   "cell_type": "code",
   "execution_count": 11,
   "id": "bd40ce50-8e69-4e7d-9798-11a7f10a6875",
   "metadata": {},
   "outputs": [
    {
     "data": {
      "text/html": [
       "<div>\n",
       "<style scoped>\n",
       "    .dataframe tbody tr th:only-of-type {\n",
       "        vertical-align: middle;\n",
       "    }\n",
       "\n",
       "    .dataframe tbody tr th {\n",
       "        vertical-align: top;\n",
       "    }\n",
       "\n",
       "    .dataframe thead th {\n",
       "        text-align: right;\n",
       "    }\n",
       "</style>\n",
       "<table border=\"1\" class=\"dataframe\">\n",
       "  <thead>\n",
       "    <tr style=\"text-align: right;\">\n",
       "      <th></th>\n",
       "      <th>contract_period</th>\n",
       "      <th>quantity_mwh</th>\n",
       "      <th>price_eur_per_mwh</th>\n",
       "    </tr>\n",
       "  </thead>\n",
       "  <tbody>\n",
       "    <tr>\n",
       "      <th>0</th>\n",
       "      <td>2025-04</td>\n",
       "      <td>100.0</td>\n",
       "      <td>33</td>\n",
       "    </tr>\n",
       "    <tr>\n",
       "      <th>1</th>\n",
       "      <td>2025-05</td>\n",
       "      <td>100.0</td>\n",
       "      <td>33</td>\n",
       "    </tr>\n",
       "    <tr>\n",
       "      <th>2</th>\n",
       "      <td>2025-06</td>\n",
       "      <td>100.0</td>\n",
       "      <td>33</td>\n",
       "    </tr>\n",
       "  </tbody>\n",
       "</table>\n",
       "</div>"
      ],
      "text/plain": [
       "  contract_period  quantity_mwh  price_eur_per_mwh\n",
       "0         2025-04         100.0                 33\n",
       "1         2025-05         100.0                 33\n",
       "2         2025-06         100.0                 33"
      ]
     },
     "execution_count": 11,
     "metadata": {},
     "output_type": "execute_result"
    }
   ],
   "source": [
    "quarterly_splits"
   ]
  },
  {
   "cell_type": "markdown",
   "id": "d4338757-7721-47cd-b15a-455044892de8",
   "metadata": {},
   "source": [
    "# Step 3: Combine Internal Trades\n",
    "#### I combine the monthly outright trades with the decomposed quarterly trades:\n",
    "#### Extract monthly outright trades (contract_type = 'Outright') with columns contract_period, quantity_mwh, price_eur_per_mwh.\n",
    "#### Concatenate with the quarterly splits to form all_internal_trades.\n",
    "#### Add a value column (quantity_mwh × price_eur_per_mwh) for calculating weighted average prices.\n",
    "\n"
   ]
  },
  {
   "cell_type": "code",
   "execution_count": 13,
   "id": "e03711b8-c50d-413a-bd59-6600f41a6190",
   "metadata": {},
   "outputs": [],
   "source": [
    "# Get monthly outright trades\n",
    "monthly_outright = internal_df[internal_df['contract_type'] == 'Outright'][['contract_period', 'quantity_mwh', 'price_eur_per_mwh']]\n",
    "\n",
    "# Combine monthly outright and quarterly splits\n",
    "all_internal_trades = pd.concat([monthly_outright, quarterly_splits], ignore_index=True)\n",
    "\n",
    "# Calculate value\n",
    "all_internal_trades['value'] = all_internal_trades['quantity_mwh'] * all_internal_trades['price_eur_per_mwh']"
   ]
  },
  {
   "cell_type": "code",
   "execution_count": 15,
   "id": "493cba0b-74f1-4e08-83b6-e83bfbde4c27",
   "metadata": {},
   "outputs": [
    {
     "data": {
      "text/html": [
       "<div>\n",
       "<style scoped>\n",
       "    .dataframe tbody tr th:only-of-type {\n",
       "        vertical-align: middle;\n",
       "    }\n",
       "\n",
       "    .dataframe tbody tr th {\n",
       "        vertical-align: top;\n",
       "    }\n",
       "\n",
       "    .dataframe thead th {\n",
       "        text-align: right;\n",
       "    }\n",
       "</style>\n",
       "<table border=\"1\" class=\"dataframe\">\n",
       "  <thead>\n",
       "    <tr style=\"text-align: right;\">\n",
       "      <th></th>\n",
       "      <th>contract_period</th>\n",
       "      <th>quantity_mwh</th>\n",
       "      <th>price_eur_per_mwh</th>\n",
       "      <th>value</th>\n",
       "    </tr>\n",
       "  </thead>\n",
       "  <tbody>\n",
       "    <tr>\n",
       "      <th>0</th>\n",
       "      <td>2025-03</td>\n",
       "      <td>100.0</td>\n",
       "      <td>30</td>\n",
       "      <td>3000.0</td>\n",
       "    </tr>\n",
       "    <tr>\n",
       "      <th>1</th>\n",
       "      <td>2025-04</td>\n",
       "      <td>200.0</td>\n",
       "      <td>31</td>\n",
       "      <td>6200.0</td>\n",
       "    </tr>\n",
       "    <tr>\n",
       "      <th>2</th>\n",
       "      <td>2025-05</td>\n",
       "      <td>250.0</td>\n",
       "      <td>32</td>\n",
       "      <td>8000.0</td>\n",
       "    </tr>\n",
       "    <tr>\n",
       "      <th>3</th>\n",
       "      <td>2025-04</td>\n",
       "      <td>100.0</td>\n",
       "      <td>33</td>\n",
       "      <td>3300.0</td>\n",
       "    </tr>\n",
       "    <tr>\n",
       "      <th>4</th>\n",
       "      <td>2025-05</td>\n",
       "      <td>100.0</td>\n",
       "      <td>33</td>\n",
       "      <td>3300.0</td>\n",
       "    </tr>\n",
       "    <tr>\n",
       "      <th>5</th>\n",
       "      <td>2025-06</td>\n",
       "      <td>100.0</td>\n",
       "      <td>33</td>\n",
       "      <td>3300.0</td>\n",
       "    </tr>\n",
       "  </tbody>\n",
       "</table>\n",
       "</div>"
      ],
      "text/plain": [
       "  contract_period  quantity_mwh  price_eur_per_mwh   value\n",
       "0         2025-03         100.0                 30  3000.0\n",
       "1         2025-04         200.0                 31  6200.0\n",
       "2         2025-05         250.0                 32  8000.0\n",
       "3         2025-04         100.0                 33  3300.0\n",
       "4         2025-05         100.0                 33  3300.0\n",
       "5         2025-06         100.0                 33  3300.0"
      ]
     },
     "execution_count": 15,
     "metadata": {},
     "output_type": "execute_result"
    }
   ],
   "source": [
    "all_internal_trades"
   ]
  },
  {
   "cell_type": "markdown",
   "id": "70d7e1cc-fa72-44bd-adfe-581af660434c",
   "metadata": {},
   "source": [
    "# Step 4: Calculate Net Internal Positions\n",
    "#### For each month, we net the internal positions by:\n",
    "#### Grouping by contract_period.\n",
    "#### Summing quantity_mwh and value.\n",
    "#### Calculating the average price as sum(value) / sum(quantity_mwh).\n",
    "#### This results in a DataFrame (net_internal) with columns contract_period, quantity_mwh, and average_price."
   ]
  },
  {
   "cell_type": "code",
   "execution_count": 17,
   "id": "d4f7f0af-8b46-4789-a7f4-c063fec9ebd4",
   "metadata": {},
   "outputs": [],
   "source": [
    "# Group by contract_period to get net positions\n",
    "net_internal = all_internal_trades.groupby('contract_period').agg({\n",
    "    'quantity_mwh': 'sum',\n",
    "    'value': 'sum'\n",
    "}).reset_index()\n",
    "\n",
    "# Calculate average price\n",
    "net_internal['average_price'] = net_internal['value'] / net_internal['quantity_mwh']\n",
    "net_internal = net_internal[['contract_period', 'quantity_mwh', 'average_price']]"
   ]
  },
  {
   "cell_type": "code",
   "execution_count": 19,
   "id": "4f3bb026-c1c8-4682-8f21-5dc0e1898acc",
   "metadata": {},
   "outputs": [
    {
     "data": {
      "text/html": [
       "<div>\n",
       "<style scoped>\n",
       "    .dataframe tbody tr th:only-of-type {\n",
       "        vertical-align: middle;\n",
       "    }\n",
       "\n",
       "    .dataframe tbody tr th {\n",
       "        vertical-align: top;\n",
       "    }\n",
       "\n",
       "    .dataframe thead th {\n",
       "        text-align: right;\n",
       "    }\n",
       "</style>\n",
       "<table border=\"1\" class=\"dataframe\">\n",
       "  <thead>\n",
       "    <tr style=\"text-align: right;\">\n",
       "      <th></th>\n",
       "      <th>contract_period</th>\n",
       "      <th>quantity_mwh</th>\n",
       "      <th>average_price</th>\n",
       "    </tr>\n",
       "  </thead>\n",
       "  <tbody>\n",
       "    <tr>\n",
       "      <th>0</th>\n",
       "      <td>2025-03</td>\n",
       "      <td>100.0</td>\n",
       "      <td>30.000000</td>\n",
       "    </tr>\n",
       "    <tr>\n",
       "      <th>1</th>\n",
       "      <td>2025-04</td>\n",
       "      <td>300.0</td>\n",
       "      <td>31.666667</td>\n",
       "    </tr>\n",
       "    <tr>\n",
       "      <th>2</th>\n",
       "      <td>2025-05</td>\n",
       "      <td>350.0</td>\n",
       "      <td>32.285714</td>\n",
       "    </tr>\n",
       "    <tr>\n",
       "      <th>3</th>\n",
       "      <td>2025-06</td>\n",
       "      <td>100.0</td>\n",
       "      <td>33.000000</td>\n",
       "    </tr>\n",
       "  </tbody>\n",
       "</table>\n",
       "</div>"
      ],
      "text/plain": [
       "  contract_period  quantity_mwh  average_price\n",
       "0         2025-03         100.0      30.000000\n",
       "1         2025-04         300.0      31.666667\n",
       "2         2025-05         350.0      32.285714\n",
       "3         2025-06         100.0      33.000000"
      ]
     },
     "execution_count": 19,
     "metadata": {},
     "output_type": "execute_result"
    }
   ],
   "source": [
    "net_internal"
   ]
  },
  {
   "cell_type": "markdown",
   "id": "74cc806d-4737-4b46-a03c-7f3d38cf975e",
   "metadata": {},
   "source": [
    "# Step 5: Reconcile with Clearer Data\n",
    "#### We merge the net internal positions with the clearer's data on contract_period:\n",
    "#### Use suffixes _internal and _clearer for overlapping columns (quantity_mwh).\n",
    "#### Rename average_price to average_price_internal and price_eur_per_mwh to price_eur_per_mwh_clearer for clarity.\n",
    "#### Add quantity_match and price_match columns to flag matches (using np.isclose for prices with a 0.01 tolerance)."
   ]
  },
  {
   "cell_type": "code",
   "execution_count": 21,
   "id": "620a24bd-6719-4612-b991-169f960800fc",
   "metadata": {},
   "outputs": [],
   "source": [
    "# Reconcile with clearer data\n",
    "reconciliation = pd.merge(net_internal, clearer_df, on='contract_period', suffixes=('_internal', '_clearer'))\n",
    "\n",
    "# Rename columns for clarity\n",
    "reconciliation = reconciliation.rename(columns={\n",
    "    'average_price': 'average_price_internal',\n",
    "    'price_eur_per_mwh': 'price_eur_per_mwh_clearer'\n",
    "})\n",
    "\n",
    "# Add match columns\n",
    "reconciliation['quantity_match'] = reconciliation['quantity_mwh_internal'] == reconciliation['quantity_mwh_clearer']\n",
    "reconciliation['price_match'] = np.isclose(reconciliation['average_price_internal'], reconciliation['price_eur_per_mwh_clearer'], atol=0.01)"
   ]
  },
  {
   "cell_type": "markdown",
   "id": "4d36702d-81dd-4baf-b3e0-850aa7b6ada9",
   "metadata": {},
   "source": [
    "# Step 6: Display Reconciliation Results\n",
    "#### We sort the reconciliation DataFrame by contract_period and display it to show:\n",
    "#### Internal and clearer quantities and prices.\n",
    "#### Whether quantities and prices match for each month."
   ]
  },
  {
   "cell_type": "code",
   "execution_count": 23,
   "id": "6dc783a0-3f70-4b90-a424-791bde675b3d",
   "metadata": {},
   "outputs": [
    {
     "data": {
      "text/html": [
       "<div>\n",
       "<style scoped>\n",
       "    .dataframe tbody tr th:only-of-type {\n",
       "        vertical-align: middle;\n",
       "    }\n",
       "\n",
       "    .dataframe tbody tr th {\n",
       "        vertical-align: top;\n",
       "    }\n",
       "\n",
       "    .dataframe thead th {\n",
       "        text-align: right;\n",
       "    }\n",
       "</style>\n",
       "<table border=\"1\" class=\"dataframe\">\n",
       "  <thead>\n",
       "    <tr style=\"text-align: right;\">\n",
       "      <th></th>\n",
       "      <th>contract_period</th>\n",
       "      <th>quantity_mwh_internal</th>\n",
       "      <th>average_price_internal</th>\n",
       "      <th>quantity_mwh_clearer</th>\n",
       "      <th>price_eur_per_mwh_clearer</th>\n",
       "      <th>quantity_match</th>\n",
       "      <th>price_match</th>\n",
       "    </tr>\n",
       "  </thead>\n",
       "  <tbody>\n",
       "    <tr>\n",
       "      <th>0</th>\n",
       "      <td>2025-03</td>\n",
       "      <td>100.0</td>\n",
       "      <td>30.000000</td>\n",
       "      <td>100</td>\n",
       "      <td>30.0</td>\n",
       "      <td>True</td>\n",
       "      <td>True</td>\n",
       "    </tr>\n",
       "    <tr>\n",
       "      <th>1</th>\n",
       "      <td>2025-04</td>\n",
       "      <td>300.0</td>\n",
       "      <td>31.666667</td>\n",
       "      <td>500</td>\n",
       "      <td>32.0</td>\n",
       "      <td>False</td>\n",
       "      <td>False</td>\n",
       "    </tr>\n",
       "    <tr>\n",
       "      <th>2</th>\n",
       "      <td>2025-05</td>\n",
       "      <td>350.0</td>\n",
       "      <td>32.285714</td>\n",
       "      <td>550</td>\n",
       "      <td>32.5</td>\n",
       "      <td>False</td>\n",
       "      <td>False</td>\n",
       "    </tr>\n",
       "    <tr>\n",
       "      <th>3</th>\n",
       "      <td>2025-06</td>\n",
       "      <td>100.0</td>\n",
       "      <td>33.000000</td>\n",
       "      <td>300</td>\n",
       "      <td>33.0</td>\n",
       "      <td>False</td>\n",
       "      <td>True</td>\n",
       "    </tr>\n",
       "  </tbody>\n",
       "</table>\n",
       "</div>"
      ],
      "text/plain": [
       "  contract_period  quantity_mwh_internal  average_price_internal  \\\n",
       "0         2025-03                  100.0               30.000000   \n",
       "1         2025-04                  300.0               31.666667   \n",
       "2         2025-05                  350.0               32.285714   \n",
       "3         2025-06                  100.0               33.000000   \n",
       "\n",
       "   quantity_mwh_clearer  price_eur_per_mwh_clearer  quantity_match  \\\n",
       "0                   100                       30.0            True   \n",
       "1                   500                       32.0           False   \n",
       "2                   550                       32.5           False   \n",
       "3                   300                       33.0           False   \n",
       "\n",
       "   price_match  \n",
       "0         True  \n",
       "1        False  \n",
       "2        False  \n",
       "3         True  "
      ]
     },
     "execution_count": 23,
     "metadata": {},
     "output_type": "execute_result"
    }
   ],
   "source": [
    "# Sort by contract_period\n",
    "reconciliation = reconciliation.sort_values('contract_period')\n",
    "\n",
    "# Display reconciliation\n",
    "reconciliation"
   ]
  },
  {
   "cell_type": "markdown",
   "id": "d6c892af-9a03-46af-b128-a6e1a5b741c8",
   "metadata": {},
   "source": [
    "# Step 7: Visualize the Data\n",
    "#### We create two bar plots:\n",
    "#### 1) Quantity Comparison: Shows internal vs. clearer quantities for each month.\n",
    "#### 2) Price Comparison: Shows internal vs. clearer prices for each month.\n",
    "#### These visualizations highlight discrepancies visually."
   ]
  },
  {
   "cell_type": "code",
   "execution_count": 25,
   "id": "b6b8e0fa-7624-468a-b9bd-88735b2e0fa6",
   "metadata": {},
   "outputs": [
    {
     "data": {
      "image/png": "[encoded data removed]",
      "text/plain": [
       "<Figure size 800x600 with 1 Axes>"
      ]
     },
     "metadata": {},
     "output_type": "display_data"
    }
   ],
   "source": [
    "# Quantity comparison\n",
    "fig, ax = plt.subplots(figsize=(8, 6))\n",
    "width = 0.35\n",
    "x = np.arange(len(reconciliation['contract_period']))\n",
    "ax.bar(x - width/2, reconciliation['quantity_mwh_internal'], width, label='Internal', color=\"green\") \n",
    "\n",
    "ax.bar(x + width/2, reconciliation['quantity_mwh_clearer'], width, label='Clearer', color=\"#33FF57\")\n",
    "ax.set_xlabel('Month')\n",
    "ax.set_ylabel('Quantity (MWh)')\n",
    "ax.set_title('Quantity Comparison: Internal vs Clearer')\n",
    "ax.set_xticks(x)\n",
    "ax.set_xticklabels(reconciliation['contract_period'])\n",
    "ax.legend()\n",
    "plt.tight_layout()\n",
    "plt.show()\n"
   ]
  },
  {
   "cell_type": "code",
   "execution_count": 31,
   "id": "ff4d51a3-a6cc-4407-939b-344a4f309763",
   "metadata": {},
   "outputs": [
    {
     "data": {
      "image/png": "[encoded data removed]",
      "text/plain": [
       "<Figure size 800x600 with 1 Axes>"
      ]
     },
     "metadata": {},
     "output_type": "display_data"
    }
   ],
   "source": [
    "# Price comparison\n",
    "fig, ax = plt.subplots(figsize=(8, 6))\n",
    "ax.bar(x - width/2, reconciliation['average_price_internal'], width, label='Internal', color='#3357FF')\n",
    "ax.bar(x + width/2, reconciliation['price_eur_per_mwh_clearer'], width, label='Clearer', color='cyan')\n",
    "ax.set_xlabel('Month')\n",
    "ax.set_ylabel('Price (€/MWh)')\n",
    "ax.set_title('Price Comparison: Internal vs Clearer')\n",
    "ax.set_xticks(x)\n",
    "ax.set_xticklabels(reconciliation['contract_period'])\n",
    "ax.legend()\n",
    "plt.tight_layout()\n",
    "plt.show()"
   ]
  },
  {
   "cell_type": "code",
   "execution_count": null,
   "id": "5ff876d0-a28d-4722-b314-c9acd9ea7f21",
   "metadata": {},
   "outputs": [],
   "source": []
  }
 ],
 "metadata": {
  "kernelspec": {
   "display_name": "Python [conda env:base] *",
   "language": "python",
   "name": "conda-base-py"
  },
  "language_info": {
   "codemirror_mode": {
    "name": "ipython",
    "version": 3
   },
   "file_extension": ".py",
   "mimetype": "text/x-python",
   "name": "python",
   "nbconvert_exporter": "python",
   "pygments_lexer": "ipython3",
   "version": "3.12.7"
  }
 },
 "nbformat": 4,
 "nbformat_minor": 5
}
